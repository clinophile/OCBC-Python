{
 "cells": [
  {
   "cell_type": "code",
   "execution_count": 1,
   "metadata": {},
   "outputs": [
    {
     "name": "stdout",
     "output_type": "stream",
     "text": [
      "Looping\n",
      "\n",
      "===Contoh-1===\n",
      "4\n",
      "3\n",
      "2\n",
      "1\n",
      "0\n",
      "==>\n",
      "1\n",
      "2\n",
      "3\n",
      "4\n",
      "5\n"
     ]
    }
   ],
   "source": [
    "print('Looping')\n",
    "print('\\n===Contoh-1===')\n",
    "n = 5\n",
    "while n > 0:\n",
    "    n -= 1\n",
    "    print(n)\n",
    "\n",
    "print('==>')\n",
    "i = 1\n",
    "while i < 6:\n",
    "    print(i)\n",
    "    i += 1"
   ]
  },
  {
   "cell_type": "code",
   "execution_count": 2,
   "metadata": {},
   "outputs": [
    {
     "name": "stdout",
     "output_type": "stream",
     "text": [
      "\n",
      "===Contoh-2===\n",
      "4\n",
      "3\n",
      "Loop ended.\n",
      "==>\n",
      "4\n",
      "3\n",
      "1\n",
      "0\n",
      "Loop ended.\n"
     ]
    }
   ],
   "source": [
    "print('\\n===Contoh-2===')\n",
    "n = 5\n",
    "while n > 0:\n",
    "    n -= 1\n",
    "    if n == 2:\n",
    "        break  # Break Statement\n",
    "    print(n)\n",
    "print('Loop ended.')\n",
    "print('==>')\n",
    "n = 5\n",
    "while n > 0:\n",
    "    n -= 1\n",
    "    if n == 2:\n",
    "        continue\n",
    "    print(n)\n",
    "print('Loop ended.')"
   ]
  },
  {
   "cell_type": "code",
   "execution_count": 3,
   "metadata": {},
   "outputs": [
    {
     "name": "stdout",
     "output_type": "stream",
     "text": [
      "\n",
      "===Contoh-3===\n",
      "4\n",
      "3\n",
      "2\n",
      "1\n",
      "0\n",
      "Loop done.\n",
      "==>\n",
      "4\n",
      "3\n",
      "2\n"
     ]
    }
   ],
   "source": [
    "print('\\n===Contoh-3===')\n",
    "n = 5\n",
    "while n > 0:\n",
    "    n -= 1\n",
    "    print(n)\n",
    "else:\n",
    "    print('Loop done.')\n",
    "\n",
    "print('==>')\n",
    "n = 5\n",
    "while n > 0:\n",
    "    n -= 1\n",
    "    print(n)\n",
    "    if n == 2:\n",
    "        break\n",
    "else:\n",
    "    print('Loop done.')"
   ]
  },
  {
   "cell_type": "code",
   "execution_count": 4,
   "metadata": {},
   "outputs": [
    {
     "name": "stdout",
     "output_type": "stream",
     "text": [
      "\n",
      "===Contoh-4===\n",
      "father\n",
      "==>\n",
      "foo\n",
      "> baz\n",
      "> qux\n",
      "bar\n",
      "> baz\n",
      "> qux\n"
     ]
    }
   ],
   "source": [
    "print('\\n===Contoh-4===')\n",
    "age = 20\n",
    "gender = 'M'\n",
    "if age < 18:\n",
    "    if gender == 'M':\n",
    "        print('son')\n",
    "    else:\n",
    "        print('daughter')\n",
    "elif age >= 18 and age < 65:\n",
    "    if gender == 'M':\n",
    "        print('father')\n",
    "    else:\n",
    "        print('mother')\n",
    "else:\n",
    "    if gender == 'M':\n",
    "        print('grandfather')\n",
    "    else:\n",
    "        print('grandmother')\n",
    "\n",
    "print('==>')\n",
    "a = ['foo', 'bar']\n",
    "\n",
    "while len(a):\n",
    "    print(a.pop(0))\n",
    "\n",
    "    b = ['baz', 'qux']\n",
    "\n",
    "    while len(b):\n",
    "        print('>', b.pop(0))"
   ]
  },
  {
   "cell_type": "code",
   "execution_count": 8,
   "metadata": {},
   "outputs": [
    {
     "name": "stdout",
     "output_type": "stream",
     "text": [
      "\n",
      "===Contoh-5===\n",
      "4\n",
      "3\n",
      "2\n",
      "1\n",
      "0\n"
     ]
    }
   ],
   "source": [
    "print('\\n===Contoh-5===')\n",
    "n = 5\n",
    "while n > 0:\n",
    "    n -= 1\n",
    "    print(n)"
   ]
  },
  {
   "cell_type": "code",
   "execution_count": 7,
   "metadata": {},
   "outputs": [
    {
     "name": "stdout",
     "output_type": "stream",
     "text": [
      "\n",
      "===Contoh-6===\n",
      "foo\n",
      "bar\n",
      "baz\n",
      "==>\n",
      "foo\n",
      "bar\n",
      "baz\n",
      "==>\n",
      "1\n",
      "2\n",
      "3\n",
      "==>\n",
      "1\n",
      "2\n",
      "3\n",
      "==>\n",
      "foo : 1\n",
      "bar : 2\n",
      "baz : 3\n"
     ]
    }
   ],
   "source": [
    "print('\\n===Contoh-6===')\n",
    "a = ['foo', 'bar', 'baz']\n",
    "for i in a:\n",
    "    print(i)\n",
    "\n",
    "print('==>')\n",
    "d = {'foo': 1, 'bar': 2, 'baz': 3}\n",
    "for k in d:\n",
    "    print(k)\n",
    "\n",
    "print('==>')\n",
    "for k in d:\n",
    "    print(d[k])\n",
    "\n",
    "print('==>')\n",
    "for k in d.values():\n",
    "    print(k)\n",
    "\n",
    "print('==>')\n",
    "for k, v in d.items():\n",
    "    print(k, \":\", v)"
   ]
  },
  {
   "cell_type": "code",
   "execution_count": 10,
   "metadata": {},
   "outputs": [
    {
     "name": "stdout",
     "output_type": "stream",
     "text": [
      "\n",
      "===Contoh-7===\n",
      "foo\n",
      "bar\n",
      "baz\n",
      "==>\n",
      "1\n",
      "2\n",
      "3\n",
      "==>\n",
      "1\n",
      "2\n",
      "3\n"
     ]
    }
   ],
   "source": [
    "print('\\n===Contoh-7===')\n",
    "d = {'foo': 1, 'bar': 2, 'baz': 3}\n",
    "for k in d:\n",
    "    print(k)\n",
    "\n",
    "print('==>')\n",
    "for k in d:\n",
    "    print(d[k])\n",
    "\n",
    "print('==>')\n",
    "for v in d.values():\n",
    "    print(v)"
   ]
  },
  {
   "cell_type": "code",
   "execution_count": 11,
   "metadata": {},
   "outputs": [
    {
     "name": "stdout",
     "output_type": "stream",
     "text": [
      "\n",
      "===Contoh-8===\n",
      "0\n",
      "1\n",
      "2\n",
      "3\n",
      "4\n",
      "==>\n",
      "0\n",
      "1\n",
      "2\n",
      "3\n",
      "4\n",
      "==>\n",
      "foo\n",
      "qux\n",
      "==>\n",
      "foo\n",
      "bar\n",
      "baz\n",
      "qux\n",
      "Done.\n",
      "==>\n",
      "foo\n"
     ]
    }
   ],
   "source": [
    "print('\\n===Contoh-8===')\n",
    "for n in (0, 1, 2, 3, 4):\n",
    "    print(n)\n",
    "\n",
    "print('==>')\n",
    "x = range(5)\n",
    "for n in x:\n",
    "    print(n)\n",
    "\n",
    "print('==>')\n",
    "for i in ['foo', 'bar', 'baz', 'qux']:\n",
    "    if 'b' in i:\n",
    "        continue\n",
    "    print(i)\n",
    "\n",
    "print('==>')\n",
    "for i in ['foo', 'bar', 'baz', 'qux']:\n",
    "    print(i)\n",
    "else:\n",
    "    print('Done.')  # Will execute\n",
    "\n",
    "print('==>')\n",
    "for i in ['foo', 'bar', 'baz', 'qux']:\n",
    "  if i == 'bar':\n",
    "    break\n",
    "  print(i)\n",
    "else:\n",
    "  print('Done.') \n"
   ]
  },
  {
   "cell_type": "code",
   "execution_count": 14,
   "metadata": {},
   "outputs": [
    {
     "name": "stdout",
     "output_type": "stream",
     "text": [
      "\n",
      "===Contoh-9===\n",
      "foo\n",
      "==>\n",
      "0 0\n",
      "----\n",
      "0 1\n",
      "0 2\n",
      "----\n",
      "1 0\n",
      "----\n",
      "1 1\n",
      "1 2\n",
      "----\n",
      "2 0\n",
      "----\n",
      "2 1\n",
      "2 2\n",
      "----\n",
      "3 0\n",
      "----\n",
      "3 1\n",
      "3 2\n",
      "----\n",
      "4 0\n",
      "----\n",
      "4 1\n",
      "4 2\n",
      "----\n"
     ]
    }
   ],
   "source": [
    "print('\\n===Contoh-9===')\n",
    "for i in ['foo', 'bar', 'baz', 'qux']:\n",
    "    if 'b' in i:\n",
    "        break\n",
    "    print(i)\n",
    "\n",
    "print('==>')\n",
    "i = 0\n",
    "while i < 5:\n",
    "    j = 0\n",
    "    while j < 3:\n",
    "        print(i, j)\n",
    "        j += 1\n",
    "\n",
    "        if(j == 2):\n",
    "            continue\n",
    "\n",
    "        print('----')\n",
    "    i += 1\n"
   ]
  },
  {
   "cell_type": "code",
   "execution_count": 15,
   "metadata": {},
   "outputs": [
    {
     "name": "stdout",
     "output_type": "stream",
     "text": [
      "\n",
      "===Contoh-10===\n",
      "0\n",
      "1\n",
      "2\n",
      "3\n",
      "4\n",
      "==>\n",
      "2\n",
      "3\n",
      "4\n",
      "5\n",
      "6\n",
      "7\n",
      "==>\n",
      "0\n",
      "20\n",
      "40\n",
      "60\n",
      "80\n"
     ]
    }
   ],
   "source": [
    "print('\\n===Contoh-10===')\n",
    "x = range(5)\n",
    "for n in x:\n",
    "    print(n)\n",
    "print('==>')\n",
    "x = range(2,8)\n",
    "for n in x:\n",
    "    print(n)\n",
    "print('==>')\n",
    "x = range(0, 100, 20)\n",
    "for n in x:\n",
    "    print(n)"
   ]
  }
 ],
 "metadata": {
  "interpreter": {
   "hash": "670ac0503b5e7d8d2cc976e7c90ae1069210f4a5d460c715c7316febc0806514"
  },
  "kernelspec": {
   "display_name": "Python 3.8.0 64-bit",
   "language": "python",
   "name": "python3"
  },
  "language_info": {
   "codemirror_mode": {
    "name": "ipython",
    "version": 3
   },
   "file_extension": ".py",
   "mimetype": "text/x-python",
   "name": "python",
   "nbconvert_exporter": "python",
   "pygments_lexer": "ipython3",
   "version": "3.8.0"
  },
  "orig_nbformat": 4
 },
 "nbformat": 4,
 "nbformat_minor": 2
}
