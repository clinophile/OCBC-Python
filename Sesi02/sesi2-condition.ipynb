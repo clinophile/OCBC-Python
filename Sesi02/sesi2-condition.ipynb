{
 "cells": [
  {
   "cell_type": "code",
   "execution_count": 1,
   "metadata": {},
   "outputs": [
    {
     "name": "stdout",
     "output_type": "stream",
     "text": [
      "Conditions, Control Flow\n",
      "\n",
      "===Contoh-1===\n",
      "yes x < y\n",
      "yes y\n",
      "yes aul in grault\n"
     ]
    }
   ],
   "source": [
    "print('Conditions, Control Flow')\n",
    "print('\\n===Contoh-1===')\n",
    "x = 0\n",
    "y = 5\n",
    "\n",
    "if x < y:                            # Truthy\n",
    "    print('yes x < y')\n",
    "\n",
    "if y < x:                            # Falsy\n",
    "    print('yes y < x')\n",
    "\n",
    "if x:                                # Falsy\n",
    "    print('yes x')\n",
    "\n",
    "if y:                                # Truthy\n",
    "    print('yes y')\n",
    "\n",
    "if 'aul' in 'grault':                # Truthy\n",
    "    print('yes aul in grault')\n",
    "\n",
    "if 'quux' in ['foo', 'bar', 'baz']:  # Falsy\n",
    "    print('yes quux in array')"
   ]
  },
  {
   "cell_type": "code",
   "execution_count": 3,
   "metadata": {},
   "outputs": [
    {
     "name": "stdout",
     "output_type": "stream",
     "text": [
      "\n",
      "===Contoh-2===\n",
      "Expression was true\n",
      "Executing statement in suite\n",
      "...\n",
      "Done.\n",
      "After conditional\n"
     ]
    }
   ],
   "source": [
    "print('\\n===Contoh-2===')\n",
    "if 'foo' in ['bar', 'baz', 'qux']:\n",
    "    print('Expression was true')\n",
    "    print('Executing statement in suite')\n",
    "    print('...')\n",
    "    print('Done.')\n",
    "\n",
    "print('After conditional')"
   ]
  },
  {
   "cell_type": "code",
   "execution_count": 4,
   "metadata": {},
   "outputs": [
    {
     "name": "stdout",
     "output_type": "stream",
     "text": [
      "\n",
      "===Contoh-3===\n",
      "Outer condition is true\n",
      "Between inner conditions\n",
      "Inner condition 2\n",
      "End of outer condition\n",
      "After outer condition\n"
     ]
    }
   ],
   "source": [
    "print('\\n===Contoh-3===')\n",
    "# Does line execute?                        Yes    No\n",
    "#                                           ---    --\n",
    "if 'foo' in ['foo', 'bar', 'baz']:  # x\n",
    "    print('Outer condition is true')  # x\n",
    "\n",
    "    if 10 > 20:  # x\n",
    "        print('Inner condition 1')  # x\n",
    "\n",
    "    print('Between inner conditions')  # x\n",
    "\n",
    "    if 10 < 20:  # x\n",
    "        print('Inner condition 2')  # x\n",
    "\n",
    "    print('End of outer condition')  # x\n",
    "print('After outer condition')  # x"
   ]
  },
  {
   "cell_type": "code",
   "execution_count": 6,
   "metadata": {},
   "outputs": [
    {
     "name": "stdout",
     "output_type": "stream",
     "text": [
      "\n",
      "===Contoh-4===\n",
      "(first suite)\n",
      "x is small\n",
      "==>\n",
      "(second suite)\n",
      "x is large\n",
      "==>\n",
      "uang tidak cukup\n"
     ]
    }
   ],
   "source": [
    "print('\\n===Contoh-4===')\n",
    "x = 20\n",
    "\n",
    "if x < 50:\n",
    "    print('(first suite)')\n",
    "    print('x is small')\n",
    "else:\n",
    "    print('(second suite)')\n",
    "    print('x is large')\n",
    "\n",
    "print('==>')\n",
    "x = 120\n",
    "\n",
    "if x < 50:\n",
    "    print('(first suite)')\n",
    "    print('x is small')\n",
    "else:\n",
    "    print('(second suite)')\n",
    "    print('x is large')\n",
    "\n",
    "print('==>')\n",
    "hargaBuku = 20000\n",
    "hargaMajalah = 5000\n",
    "uang = 2000\n",
    "\n",
    "if uang > hargaBuku:\n",
    "    print(\"beli buku\")\n",
    "else:\n",
    "    print(\"uang tidak cukup\")\n"
   ]
  },
  {
   "cell_type": "code",
   "execution_count": 8,
   "metadata": {},
   "outputs": [
    {
     "name": "stdout",
     "output_type": "stream",
     "text": [
      "\n",
      "===Contoh-5===\n",
      "uang tidak cukup\n",
      "==>\n",
      "Hello Hacktiv8\n",
      "==>\n",
      "foo\n"
     ]
    }
   ],
   "source": [
    "print('\\n===Contoh-5===')\n",
    "hargaBuku = 20000\n",
    "hargaMajalah = 5000\n",
    "uang = 2000\n",
    "\n",
    "if uang > hargaBuku:\n",
    "    print(\"beli buku\")\n",
    "elif uang > hargaMajalah:\n",
    "    print(\"beli majalah\")\n",
    "else:\n",
    "    print(\"uang tidak cukup\")\n",
    "\n",
    "print('==>')\n",
    "name = 'Hacktiv8'\n",
    "if name == 'Fred':\n",
    "    print('Hello Fred')\n",
    "elif name == 'Xander':\n",
    "    print('Hello Xander')\n",
    "elif name == 'Hacktiv8':\n",
    "    print('Hello Hacktiv8')\n",
    "elif name == 'Arnold':\n",
    "    print('Hello Arnold')\n",
    "else:\n",
    "    print(\"I don't know who you are!\")\n",
    "\n",
    "print('==>')\n",
    "if 'a' in 'bar':\n",
    "    print('foo')\n",
    "elif 1/0:\n",
    "    print(\"This won't happen\")\n",
    "elif var:\n",
    "    print(\"This won't either\")"
   ]
  },
  {
   "cell_type": "code",
   "execution_count": 12,
   "metadata": {},
   "outputs": [
    {
     "name": "stdout",
     "output_type": "stream",
     "text": [
      "\n",
      "===Contoh-6===\n",
      "1\n",
      "2\n",
      "3\n",
      "==>\n",
      "==>\n",
      "qux\n",
      "quux\n",
      "==>\n",
      "corge\n",
      "grault\n",
      "==>\n",
      "corge\n",
      "grault\n"
     ]
    }
   ],
   "source": [
    "print('\\n===Contoh-6===')\n",
    "if 'f' in 'foo':\n",
    "    print('1')\n",
    "    print('2')\n",
    "    print('3')\n",
    "print('==>')\n",
    "if 'z' in 'foo':\n",
    "    print('1')\n",
    "    print('2')\n",
    "    print('3')\n",
    "print('==>')\n",
    "\n",
    "x = 2\n",
    "if x == 1:\n",
    "    print('foo')\n",
    "    print('bar')\n",
    "    print('baz')\n",
    "elif x == 2:\n",
    "    print('qux')\n",
    "    print('quux')\n",
    "else:\n",
    "    print('corge')\n",
    "    print('grault')\n",
    "print('==>')\n",
    "x = 3\n",
    "\n",
    "if x == 1:\n",
    "    print('foo')\n",
    "    print('bar')\n",
    "    print('baz')\n",
    "elif x == 2:\n",
    "    print('qux')\n",
    "    print('quux')\n",
    "else:\n",
    "    print('corge')\n",
    "    print('grault')\n",
    "print('==>')\n",
    "x = 3\n",
    "if x == 1:\n",
    "    print('foo')\n",
    "    print('bar')\n",
    "    print('baz')\n",
    "elif x == 2:\n",
    "    print('qux')\n",
    "    print('quux')\n",
    "else:\n",
    "    print('corge')\n",
    "    print('grault')\n"
   ]
  },
  {
   "cell_type": "code",
   "execution_count": 13,
   "metadata": {},
   "outputs": [
    {
     "name": "stdout",
     "output_type": "stream",
     "text": [
      "\n",
      "===Contoh-7===\n",
      "Let's go to the beach\n",
      "==>\n",
      "Let's go to the library\n",
      "==>\n",
      "age is teen\n",
      "==>\n",
      "no\n"
     ]
    }
   ],
   "source": [
    "print('\\n===Contoh-7===')\n",
    "raining = False\n",
    "print(\"Let's go to the\", 'beach' if not raining else 'library')\n",
    "print('==>')\n",
    "raining = True\n",
    "print(\"Let's go to the\", 'beach' if not raining else 'library')\n",
    "print('==>')\n",
    "age = 12\n",
    "s = 'age is teen' if age < 21 else 'age is adult'\n",
    "print(s)\n",
    "print('==>')\n",
    "print('yes' if ('qux' in ['foo', 'bar', 'baz']) else 'no')"
   ]
  },
  {
   "cell_type": "code",
   "execution_count": 14,
   "metadata": {},
   "outputs": [
    {
     "name": "stdout",
     "output_type": "stream",
     "text": [
      "\n",
      "===Contoh-8===\n",
      "foo\n"
     ]
    }
   ],
   "source": [
    "print('\\n===Contoh-8===')\n",
    "if True:\n",
    "    pass\n",
    "print('foo')"
   ]
  }
 ],
 "metadata": {
  "interpreter": {
   "hash": "670ac0503b5e7d8d2cc976e7c90ae1069210f4a5d460c715c7316febc0806514"
  },
  "kernelspec": {
   "display_name": "Python 3.8.0 64-bit",
   "language": "python",
   "name": "python3"
  },
  "language_info": {
   "codemirror_mode": {
    "name": "ipython",
    "version": 3
   },
   "file_extension": ".py",
   "mimetype": "text/x-python",
   "name": "python",
   "nbconvert_exporter": "python",
   "pygments_lexer": "ipython3",
   "version": "3.8.0"
  },
  "orig_nbformat": 4
 },
 "nbformat": 4,
 "nbformat_minor": 2
}
