{
 "cells": [
  {
   "cell_type": "code",
   "execution_count": 12,
   "metadata": {},
   "outputs": [
    {
     "name": "stdout",
     "output_type": "stream",
     "text": [
      "======contoh 1=======\n",
      "p =  3\n",
      "l =  4\n",
      "p * l =  12\n",
      "==========================\n",
      "Function to calcultate area of a square\n",
      "I'm first call to user defined function!\n",
      "Again second call to the same function\n",
      "190\n"
     ]
    }
   ],
   "source": [
    "print('======contoh 1=======')\n",
    "\n",
    "def my_function(p,l):\n",
    "     '''Function to calcultate area of a square''' #ini adalah __doc__\n",
    "    print('p = ', p)\n",
    "    print('l = ', l)\n",
    "    print(\"p * l = \", p*l)\n",
    "\n",
    "\n",
    "def printme( str_input ):\n",
    "   '''This prints a passed string into this function'''\n",
    "   print(str_input)\n",
    "\n",
    "p = 3\n",
    "l = 4\n",
    "my_function(p,l)\n",
    "print('==========================')\n",
    "print(my_function.__doc__)\n",
    "printme(\"I'm first call to user defined function!\")\n",
    "printme(\"Again second call to the same function\")\n",
    "printme(190)"
   ]
  },
  {
   "cell_type": "code",
   "execution_count": 4,
   "metadata": {},
   "outputs": [
    {
     "name": "stdout",
     "output_type": "stream",
     "text": [
      "====contoh 2====\n",
      "\n",
      "Values outside the function - before :  [10, 20, 30]\n",
      "\n",
      "Values inside the function :  [10, 20, 30, 1, 2, 3, 4]\n",
      "\n",
      "Values outside the function - after  :  [10, 20, 30, 1, 2, 3, 4]\n"
     ]
    }
   ],
   "source": [
    "print(\"====contoh 2====\")\n",
    "\n",
    "def changeme( mylist ):\n",
    "   '''This changes a passed list into this function'''\n",
    "   mylist = mylist+[1,2,3,4]\n",
    "   print(\"\\nValues inside the function : \", mylist)\n",
    "   return mylist\n",
    "\n",
    "# Now you can call changeme function\n",
    "mylist = [10,20,30]\n",
    "print(\"\\nValues outside the function - before : \", mylist)\n",
    "mylist = changeme( mylist )\n",
    "print(\"\\nValues outside the function - after  : \", mylist)"
   ]
  },
  {
   "cell_type": "code",
   "execution_count": 5,
   "metadata": {},
   "outputs": [
    {
     "name": "stdout",
     "output_type": "stream",
     "text": [
      "====contoh 3====\n",
      "Values inside the function  :  [1, 2, 3, 4]\n",
      "Values outside the function :  [10, 20, 30]\n"
     ]
    }
   ],
   "source": [
    "print(\"====contoh 3====\")\n",
    "def changeme( mylist ):\n",
    "   '''This changes a passed list into this function'''\n",
    "   mylist = [1, 2, 3, 4] # This would assign new reference in mylist\n",
    "   print(\"Values inside the function  : \", mylist)\n",
    "\n",
    "# Now you can call changeme function\n",
    "mylist = [10, 20, 30]\n",
    "changeme( mylist )\n",
    "print(\"Values outside the function : \", mylist)"
   ]
  },
  {
   "cell_type": "code",
   "execution_count": 10,
   "metadata": {},
   "outputs": [
    {
     "name": "stdout",
     "output_type": "stream",
     "text": [
      "====contoh 4 (Keyword Argument)====\n",
      "printinfo( age=4, name='Nana')\n",
      "Hasil output :\n",
      "Name :  Nana\n",
      "Age :  4\n"
     ]
    }
   ],
   "source": [
    "print(\"====contoh 4 (Keyword Argument)====\")\n",
    "\n",
    "def printinfo( name, age ):\n",
    "   '''This prints a passed info into this function'''\n",
    "   print(\"Name : \", name)\n",
    "   print(\"Age : \", age)\n",
    "\n",
    "# Now you can call printinfo function\n",
    "print(\"printinfo( age=4, name='Nana')\")\n",
    "print(\"Hasil output :\")\n",
    "printinfo( age=4, name=\"Nana\" )"
   ]
  },
  {
   "cell_type": "code",
   "execution_count": 11,
   "metadata": {},
   "outputs": [
    {
     "name": "stdout",
     "output_type": "stream",
     "text": [
      "====contoh 5 (Default Arguments)====\n",
      "Name :  hacktiv8\n",
      "Age  :  50\n",
      "\n",
      "Name :  hacktiv\n",
      "Age  :  26\n",
      "\n"
     ]
    }
   ],
   "source": [
    "print(\"====contoh 5 (Default Arguments)====\")\n",
    "\n",
    "# You must write default-arguments after required-argument\n",
    "# def printinfo( name, age = 26 ): \n",
    "# NOT\n",
    "# def printinfo(age = 26, name):\n",
    "\n",
    "def printinfo( name, age = 26 ):\n",
    "   '''This prints a passed info into this function'''\n",
    "   print(\"Name : \", name)\n",
    "   print(\"Age  : \", age)\n",
    "   print(\"\")\n",
    "\n",
    "# Now you can call printinfo function\n",
    "printinfo( age=50, name=\"hacktiv8\" )\n",
    "printinfo( name=\"hacktiv\" )"
   ]
  },
  {
   "cell_type": "code",
   "execution_count": 16,
   "metadata": {},
   "outputs": [
    {
     "name": "stdout",
     "output_type": "stream",
     "text": [
      "====Variable-length Arguments====\n",
      "=====TIPE 1 (Variabel disimpang dalam tuple)=====\n",
      "arg1     :  10\n",
      "vartuple :  ()\n",
      "\n",
      "arg1     :  70\n",
      "vartuple :  (60, 50, 'a')\n",
      "\n",
      "isi vartuple :  60\n",
      "isi vartuple :  50\n",
      "isi vartuple :  a\n",
      "\n",
      "=====TIPE 2 (Variabel disimpang dalam dict)=====\n",
      "Total Data :  3\n",
      "Person :  jimmy\n",
      "Car    :  chevrolet\n",
      "\n",
      "Person :  frank\n",
      "Car    :  ford\n",
      "\n",
      "Person :  tina\n",
      "Car    :  honda\n",
      "\n",
      "Total Data :  3\n"
     ]
    }
   ],
   "source": [
    "print(\"====Variable-length Arguments====\")\n",
    "print(\"=====TIPE 1 (Variabel disimpang dalam tuple)=====\")\n",
    "def printinfo( arg1, *vartuple ):\n",
    "# def printinfo(arg1, arg2, arg3, arg4):\n",
    "   '''This prints a variable passed arguments'''\n",
    "   print('arg1     : ', arg1)\n",
    "   print('vartuple : ', vartuple)\n",
    "   print('')\n",
    "   \n",
    "   for var in vartuple:\n",
    "      print('isi vartuple : ', var) \n",
    "\n",
    "# Now you can call printinfo function\n",
    "printinfo( 10 )\n",
    "printinfo( 70, 60, 50, \"a\" )\n",
    "\n",
    "\n",
    "# Create a function with nonkeyword variables\n",
    "print(\"\\n=====TIPE 2 (Variabel disimpang dalam dict)=====\")\n",
    "def person_car(total_data, **kwargs):\n",
    "  '''Create a function to print who owns what car'''\n",
    "  print('Total Data : ', total_data)\n",
    "  for key, value in kwargs.items():\n",
    "    print('Person : ', key)\n",
    "    print('Car    : ', value)\n",
    "    print('')\n",
    "\n",
    "person_car(3, jimmy='chevrolet', frank='ford', tina='honda')\n",
    "person_car(3)\n",
    "\n",
    "# Parameters (jimmy='chevrolet', frank='ford', tina='honda') will be equal to\n",
    "# kwargs = {\n",
    "#     'jimmy': 'chevrolet',\n",
    "#     'frank': 'ford',\n",
    "#     'tina': 'honda'\n",
    "# }"
   ]
  },
  {
   "cell_type": "code",
   "execution_count": 17,
   "metadata": {},
   "outputs": [
    {
     "name": "stdout",
     "output_type": "stream",
     "text": [
      "===Anonymous Function (lambda)====\n",
      "Value of total :  30\n",
      "Value of total :  40\n"
     ]
    }
   ],
   "source": [
    "print(\"===Anonymous Function (lambda)====\")\n",
    "\n",
    "# Function definition is here\n",
    "sum = lambda arg1, arg2: arg1 + arg2\n",
    "\n",
    "# That lambda function will be equal to :\n",
    "# def sum(arg1, arg2):\n",
    "#     return arg1+arg2\n",
    "\n",
    "# Now you can call sum as a function\n",
    "print(\"Value of total : \", sum( 10, 20 ))\n",
    "print(\"Value of total : \", sum( 20, 20 ))"
   ]
  },
  {
   "cell_type": "code",
   "execution_count": 18,
   "metadata": {},
   "outputs": [
    {
     "name": "stdout",
     "output_type": "stream",
     "text": [
      "====Return Statement====\n",
      "Result function :  30\n"
     ]
    }
   ],
   "source": [
    "print(\"====Return Statement====\")\n",
    "\n",
    "# Function definition is here\n",
    "def sum(arg1, arg2):\n",
    "    # Add both the parameters and return them.\"\n",
    "    total = arg1 + arg2\n",
    "    return total\n",
    "\n",
    "# Now you can call sum function\n",
    "total = sum(10, 20)\n",
    "print(\"Result function : \", total)"
   ]
  },
  {
   "cell_type": "code",
   "execution_count": 21,
   "metadata": {},
   "outputs": [
    {
     "name": "stdout",
     "output_type": "stream",
     "text": [
      "===Local & Global Variable===\n",
      "Inside the function local total   :  30\n",
      "Outside the function global total :  0\n",
      "=========================\n",
      "Outside the function global total - before :  0\n",
      "Inside the function local total   :  30\n",
      "Outside the function global total - after  :  30\n"
     ]
    }
   ],
   "source": [
    "print(\"===Local & Global Variable===\")\n",
    "# Declare a global variable\n",
    "total = 0\n",
    "\n",
    "# Create sum function\n",
    "def sum( arg1, arg2 ):\n",
    "   total = arg1 + arg2; \n",
    "   print(\"Inside the function local total   : \", total)\n",
    "\n",
    "# Call a function\n",
    "sum( 10, 20 )\n",
    "print(\"Outside the function global total : \", total)\n",
    "\n",
    "print(\"=========================\")\n",
    "\n",
    "def sum2( arg1, arg2 ):\n",
    "   total = arg1 + arg2; \n",
    "   print(\"Inside the function local total   : \", total)\n",
    "   return total\n",
    "\n",
    "print(\"Outside the function global total - before : \", total)\n",
    "total = sum2( 10, 20 )\n",
    "print(\"Outside the function global total - after  : \", total)"
   ]
  },
  {
   "cell_type": "code",
   "execution_count": 23,
   "metadata": {},
   "outputs": [
    {
     "name": "stdout",
     "output_type": "stream",
     "text": [
      "====DocString====\n",
      "\n",
      "  This function is used to sum of 2 variables.\n",
      "  :param num1: Input number 1 | int or float\n",
      "  :param num2: Input number 2 | int or float\n",
      "  \n",
      "  :return: num3: Sum of number | int or float\n",
      "  \n"
     ]
    }
   ],
   "source": [
    "print(\"====DocString====\")\n",
    "\n",
    "# Example of docstring in a function\n",
    "\n",
    "def sum_number(num1, num2):\n",
    "  '''\n",
    "  This function is used to sum of 2 variables.\n",
    "  :param num1: Input number 1 | int or float\n",
    "  :param num2: Input number 2 | int or float\n",
    "  \n",
    "  :return: num3: Sum of number | int or float\n",
    "  '''\n",
    "\n",
    "  num3 = num1 + num2\n",
    "  return num3\n",
    "\n",
    "print(sum_number.__doc__)"
   ]
  }
 ],
 "metadata": {
  "interpreter": {
   "hash": "670ac0503b5e7d8d2cc976e7c90ae1069210f4a5d460c715c7316febc0806514"
  },
  "kernelspec": {
   "display_name": "Python 3.8.0 64-bit",
   "language": "python",
   "name": "python3"
  },
  "language_info": {
   "codemirror_mode": {
    "name": "ipython",
    "version": 3
   },
   "file_extension": ".py",
   "mimetype": "text/x-python",
   "name": "python",
   "nbconvert_exporter": "python",
   "pygments_lexer": "ipython3",
   "version": "3.8.0"
  },
  "orig_nbformat": 4
 },
 "nbformat": 4,
 "nbformat_minor": 2
}
